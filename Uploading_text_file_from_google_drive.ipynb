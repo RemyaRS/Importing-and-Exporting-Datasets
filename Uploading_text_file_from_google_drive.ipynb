{
  "nbformat": 4,
  "nbformat_minor": 0,
  "metadata": {
    "colab": {
      "name": "Uploading text file from google drive.ipynb",
      "provenance": [],
      "authorship_tag": "ABX9TyMYjTxnh6uuZpR6pXmDy78h",
      "include_colab_link": true
    },
    "kernelspec": {
      "name": "python3",
      "display_name": "Python 3"
    },
    "language_info": {
      "name": "python"
    }
  },
  "cells": [
    {
      "cell_type": "markdown",
      "metadata": {
        "id": "view-in-github",
        "colab_type": "text"
      },
      "source": [
        "<a href=\"https://colab.research.google.com/github/RemyaRS/Importing-and-Exporting-Datasets/blob/main/Uploading_text_file_from_google_drive.ipynb\" target=\"_parent\"><img src=\"https://colab.research.google.com/assets/colab-badge.svg\" alt=\"Open In Colab\"/></a>"
      ]
    },
    {
      "cell_type": "markdown",
      "source": [
        "#Using google drive to import dataset"
      ],
      "metadata": {
        "id": "MIMbXMxaslE4"
      }
    },
    {
      "cell_type": "code",
      "source": [
        "from google.colab import drive\n",
        "drive.mount('/content/drive')"
      ],
      "metadata": {
        "colab": {
          "base_uri": "https://localhost:8080/"
        },
        "outputId": "5f84153e-f464-4af7-a938-372115357e9f",
        "id": "FyLMu-GemG60"
      },
      "execution_count": 1,
      "outputs": [
        {
          "output_type": "stream",
          "name": "stdout",
          "text": [
            "Mounted at /content/drive\n"
          ]
        }
      ]
    },
    {
      "cell_type": "markdown",
      "source": [
        "#Uploading text file"
      ],
      "metadata": {
        "id": "zMiY8CP3GI9D"
      }
    },
    {
      "cell_type": "code",
      "source": [
        "text = open('/content/drive/MyDrive/demofile.txt','r')"
      ],
      "metadata": {
        "id": "KKS-AqttGevi"
      },
      "execution_count": 2,
      "outputs": []
    },
    {
      "cell_type": "code",
      "source": [
        "print(text.read())"
      ],
      "metadata": {
        "colab": {
          "base_uri": "https://localhost:8080/"
        },
        "id": "83Ha_RLtw-bd",
        "outputId": "1bbd3539-4d63-4123-cae3-c89d45a88bc0"
      },
      "execution_count": 3,
      "outputs": [
        {
          "output_type": "stream",
          "name": "stdout",
          "text": [
            "Hello! Welcome to demofile.txt\n",
            "This file is for testing purposes.\n",
            "Good Luck!\n"
          ]
        }
      ]
    }
  ]
}
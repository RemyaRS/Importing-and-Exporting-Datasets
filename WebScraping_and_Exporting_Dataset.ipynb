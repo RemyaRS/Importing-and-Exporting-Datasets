{
  "nbformat": 4,
  "nbformat_minor": 0,
  "metadata": {
    "colab": {
      "name": "WebScraping and Exporting Dataset.ipynb",
      "provenance": [],
      "authorship_tag": "ABX9TyNLg4cqf0vLaF9Puna3aA0O",
      "include_colab_link": true
    },
    "kernelspec": {
      "name": "python3",
      "display_name": "Python 3"
    },
    "language_info": {
      "name": "python"
    }
  },
  "cells": [
    {
      "cell_type": "markdown",
      "metadata": {
        "id": "view-in-github",
        "colab_type": "text"
      },
      "source": [
        "<a href=\"https://colab.research.google.com/github/RemyaRS/Importing-and-Exporting-Datasets/blob/main/WebScraping_and_Exporting_Dataset.ipynb\" target=\"_parent\"><img src=\"https://colab.research.google.com/assets/colab-badge.svg\" alt=\"Open In Colab\"/></a>"
      ]
    },
    {
      "cell_type": "code",
      "execution_count": null,
      "metadata": {
        "id": "fq_K1gNpyeC9"
      },
      "outputs": [],
      "source": [
        ""
      ]
    },
    {
      "cell_type": "markdown",
      "source": [
        "#**Importing libraries required**"
      ],
      "metadata": {
        "id": "Dq0I4H9McpOi"
      }
    },
    {
      "cell_type": "code",
      "source": [
        "import numpy as np\n",
        "# numpy perform a number of mathematical operations on arrays such as trigonometric, statistical, and algebraic routines\n",
        "\n",
        "import pandas as pd\n",
        "# pandas is used to analyze data\n",
        "\n",
        "import requests\n",
        "# requests module allows you to send HTTP requests using Python\n",
        "\n",
        "from bs4 import BeautifulSoup\n",
        "# Beautiful Soup is a library that makes it easy to scrape information from web pages\n",
        "# BeautifulSoup's current version bs4, is a web scraping library\n",
        "\n",
        "from time import sleep\n",
        "#The sleep() function suspends execution of the current thread for a given number of seconds\n",
        "\n",
        "from random import randint\n",
        "#The randint Python function is a built-in method that lets you generate random integers using the random module"
      ],
      "metadata": {
        "id": "GXRAc-Gkdc8D"
      },
      "execution_count": 1,
      "outputs": []
    },
    {
      "cell_type": "code",
      "source": [
        "#Declaring the headers \n",
        "headers = {\"Accept-Language\": \"en-US,en;q=0.5\"} # To get data in english format"
      ],
      "metadata": {
        "id": "sau3G9ghdhp6"
      },
      "execution_count": 2,
      "outputs": []
    },
    {
      "cell_type": "markdown",
      "source": [
        "#**Declare Feature Names** - Empty lists to append data"
      ],
      "metadata": {
        "id": "UMSIostjdvU-"
      }
    },
    {
      "cell_type": "code",
      "source": [
        "movie_name = []\n",
        "year = []\n",
        "time=[]\n",
        "rating=[]\n",
        "metascore =[]\n",
        "votes = []\n",
        "gross = []\n",
        "description = []"
      ],
      "metadata": {
        "id": "ZZ8z0WZhdsVd"
      },
      "execution_count": 3,
      "outputs": []
    },
    {
      "cell_type": "markdown",
      "source": [
        "url of 1st static page -- https://www.imdb.com/search/title/?count=100&groups=top_1000&sort=user_rating\n",
        "\n",
        "url of 2nd static page -- https://www.imdb.com/search/title/?groups=top_1000&sort=user_rating,desc&count=100&start=101&ref_=adv_nxt\n",
        "\n",
        "url of 3rd static page -- https://www.imdb.com/search/title/?groups=top_1000&sort=user_rating,desc&count=100&start=201&ref_=adv_nxt\n",
        "\n",
        "and so on.............\n",
        "\n",
        "only thr part 101, 102, 103.... are dynamic in page 2 ,3, 4,......... respectively"
      ],
      "metadata": {
        "id": "R2w3xzTDjRDM"
      }
    },
    {
      "cell_type": "markdown",
      "source": [
        "**creating an array of values and passing it in the url for dynamic webpages : to get 1 to 1000 records from each page having 100 records**"
      ],
      "metadata": {
        "id": "VWQLmE9mkPNO"
      }
    },
    {
      "cell_type": "code",
      "source": [
        "pages = np.arange(1,1000,100)"
      ],
      "metadata": {
        "id": "kwXGChkEkE_9"
      },
      "execution_count": 4,
      "outputs": []
    },
    {
      "cell_type": "code",
      "source": [
        "for page in pages:\n",
        "    page = requests.get(\"https://www.imdb.com/search/title/?groups=top_1000&sort=user_rating,desc&count=100&start=\"+str(page)+\"&ref_=adv_nxt\")\n",
        "    soup = BeautifulSoup(page.text, 'html.parser')\n",
        "    movie_data = soup.findAll('div', attrs = {'class': 'lister-item mode-advanced'})\n",
        "    sleep(randint(2,8))# to avoid heavy request in every 2 to 8 seconds \n",
        "    for store in movie_data:\n",
        "        name = store.h3.a.text# Since movie name is present in a tag of h3 tag as a text\n",
        "        movie_name.append(name)\n",
        "        \n",
        "        year_of_release = store.h3.find('span', class_ = \"lister-item-year text-muted unbold\").text\n",
        "        year.append(year_of_release)\n",
        "        \n",
        "        runtime = store.p.find(\"span\", class_ = 'runtime').text\n",
        "        time.append(runtime)\n",
        "        \n",
        "        rate = store.find('div', class_ = \"inline-block ratings-imdb-rating\").text.replace('\\n', '')\n",
        "        rating.append(rate)\n",
        "        \n",
        "        meta = store.find('span', class_ = \"metascore\").text if store.find('span', class_ = \"metascore\") else \"NaN\"\n",
        "        metascore.append(meta)\n",
        "        \n",
        "        \n",
        "        value = store.find_all('span', attrs = {'name': \"nv\"})#for indexing .. to get vote and grosses... that are present in same line\n",
        "        \n",
        "        vote = value[0].text\n",
        "        votes.append(vote)\n",
        "        \n",
        "        grosses = value[1].text if len(value)>1 else 'NaN'\n",
        "        gross.append(grosses)\n",
        "\n",
        "        describe = store.find_all('p', class_ = 'text-muted')\n",
        "        description_ = describe[1].text.replace('\\n', '') if len(describe) >1 else 'NaN'\n",
        "        description.append(description_)"
      ],
      "metadata": {
        "id": "RKAT0lqidA1A"
      },
      "execution_count": 5,
      "outputs": []
    },
    {
      "cell_type": "code",
      "source": [
        "#creating a dataframe \n",
        "movie_list = pd.DataFrame({ \"Movie Name\": movie_name, \"Year of Release\" : year, \"Watch Time\": time,\"Movie Rating\": rating, \"Meatscore of movie\": metascore, \"Votes\" : votes, \"Gross\" : gross})"
      ],
      "metadata": {
        "id": "WJqY2sSGdQxS"
      },
      "execution_count": 6,
      "outputs": []
    },
    {
      "cell_type": "code",
      "source": [
        "movie_list"
      ],
      "metadata": {
        "colab": {
          "base_uri": "https://localhost:8080/",
          "height": 424
        },
        "id": "c4vrLiB3dVrP",
        "outputId": "35c0cd7e-9416-4291-e3a8-2774ab605fbc"
      },
      "execution_count": 7,
      "outputs": [
        {
          "output_type": "execute_result",
          "data": {
            "text/plain": [
              "                                        Movie Name Year of Release Watch Time  \\\n",
              "0                         The Shawshank Redemption          (1994)    142 min   \n",
              "1                                    The Godfather          (1972)    175 min   \n",
              "2                                  The Dark Knight          (2008)    152 min   \n",
              "3    The Lord of the Rings: The Return of the King          (2003)    201 min   \n",
              "4                                 Schindler's List          (1993)    195 min   \n",
              "..                                             ...             ...        ...   \n",
              "995                                        Sabrina          (1954)    113 min   \n",
              "996                          From Here to Eternity          (1953)    118 min   \n",
              "997                Snow White and the Seven Dwarfs          (1937)     83 min   \n",
              "998                                   The 39 Steps          (1935)     86 min   \n",
              "999                              The Invisible Man          (1933)     71 min   \n",
              "\n",
              "    Movie Rating Meatscore of movie      Votes     Gross  \n",
              "0            9.3         81          2,602,075   $28.34M  \n",
              "1            9.2        100          1,797,537  $134.97M  \n",
              "2            9.0         84          2,573,513  $534.86M  \n",
              "3            9.0         94          1,786,976  $377.85M  \n",
              "4            9.0         94          1,323,232   $96.90M  \n",
              "..           ...                ...        ...       ...  \n",
              "995          7.6         72             64,465       NaN  \n",
              "996          7.6         85             46,793   $30.50M  \n",
              "997          7.6         95            196,306  $184.93M  \n",
              "998          7.6         93             56,568       NaN  \n",
              "999          7.6         87             34,622       NaN  \n",
              "\n",
              "[1000 rows x 7 columns]"
            ],
            "text/html": [
              "\n",
              "  <div id=\"df-c9f9cf9a-7738-42f8-90e7-368bff97ad99\">\n",
              "    <div class=\"colab-df-container\">\n",
              "      <div>\n",
              "<style scoped>\n",
              "    .dataframe tbody tr th:only-of-type {\n",
              "        vertical-align: middle;\n",
              "    }\n",
              "\n",
              "    .dataframe tbody tr th {\n",
              "        vertical-align: top;\n",
              "    }\n",
              "\n",
              "    .dataframe thead th {\n",
              "        text-align: right;\n",
              "    }\n",
              "</style>\n",
              "<table border=\"1\" class=\"dataframe\">\n",
              "  <thead>\n",
              "    <tr style=\"text-align: right;\">\n",
              "      <th></th>\n",
              "      <th>Movie Name</th>\n",
              "      <th>Year of Release</th>\n",
              "      <th>Watch Time</th>\n",
              "      <th>Movie Rating</th>\n",
              "      <th>Meatscore of movie</th>\n",
              "      <th>Votes</th>\n",
              "      <th>Gross</th>\n",
              "    </tr>\n",
              "  </thead>\n",
              "  <tbody>\n",
              "    <tr>\n",
              "      <th>0</th>\n",
              "      <td>The Shawshank Redemption</td>\n",
              "      <td>(1994)</td>\n",
              "      <td>142 min</td>\n",
              "      <td>9.3</td>\n",
              "      <td>81</td>\n",
              "      <td>2,602,075</td>\n",
              "      <td>$28.34M</td>\n",
              "    </tr>\n",
              "    <tr>\n",
              "      <th>1</th>\n",
              "      <td>The Godfather</td>\n",
              "      <td>(1972)</td>\n",
              "      <td>175 min</td>\n",
              "      <td>9.2</td>\n",
              "      <td>100</td>\n",
              "      <td>1,797,537</td>\n",
              "      <td>$134.97M</td>\n",
              "    </tr>\n",
              "    <tr>\n",
              "      <th>2</th>\n",
              "      <td>The Dark Knight</td>\n",
              "      <td>(2008)</td>\n",
              "      <td>152 min</td>\n",
              "      <td>9.0</td>\n",
              "      <td>84</td>\n",
              "      <td>2,573,513</td>\n",
              "      <td>$534.86M</td>\n",
              "    </tr>\n",
              "    <tr>\n",
              "      <th>3</th>\n",
              "      <td>The Lord of the Rings: The Return of the King</td>\n",
              "      <td>(2003)</td>\n",
              "      <td>201 min</td>\n",
              "      <td>9.0</td>\n",
              "      <td>94</td>\n",
              "      <td>1,786,976</td>\n",
              "      <td>$377.85M</td>\n",
              "    </tr>\n",
              "    <tr>\n",
              "      <th>4</th>\n",
              "      <td>Schindler's List</td>\n",
              "      <td>(1993)</td>\n",
              "      <td>195 min</td>\n",
              "      <td>9.0</td>\n",
              "      <td>94</td>\n",
              "      <td>1,323,232</td>\n",
              "      <td>$96.90M</td>\n",
              "    </tr>\n",
              "    <tr>\n",
              "      <th>...</th>\n",
              "      <td>...</td>\n",
              "      <td>...</td>\n",
              "      <td>...</td>\n",
              "      <td>...</td>\n",
              "      <td>...</td>\n",
              "      <td>...</td>\n",
              "      <td>...</td>\n",
              "    </tr>\n",
              "    <tr>\n",
              "      <th>995</th>\n",
              "      <td>Sabrina</td>\n",
              "      <td>(1954)</td>\n",
              "      <td>113 min</td>\n",
              "      <td>7.6</td>\n",
              "      <td>72</td>\n",
              "      <td>64,465</td>\n",
              "      <td>NaN</td>\n",
              "    </tr>\n",
              "    <tr>\n",
              "      <th>996</th>\n",
              "      <td>From Here to Eternity</td>\n",
              "      <td>(1953)</td>\n",
              "      <td>118 min</td>\n",
              "      <td>7.6</td>\n",
              "      <td>85</td>\n",
              "      <td>46,793</td>\n",
              "      <td>$30.50M</td>\n",
              "    </tr>\n",
              "    <tr>\n",
              "      <th>997</th>\n",
              "      <td>Snow White and the Seven Dwarfs</td>\n",
              "      <td>(1937)</td>\n",
              "      <td>83 min</td>\n",
              "      <td>7.6</td>\n",
              "      <td>95</td>\n",
              "      <td>196,306</td>\n",
              "      <td>$184.93M</td>\n",
              "    </tr>\n",
              "    <tr>\n",
              "      <th>998</th>\n",
              "      <td>The 39 Steps</td>\n",
              "      <td>(1935)</td>\n",
              "      <td>86 min</td>\n",
              "      <td>7.6</td>\n",
              "      <td>93</td>\n",
              "      <td>56,568</td>\n",
              "      <td>NaN</td>\n",
              "    </tr>\n",
              "    <tr>\n",
              "      <th>999</th>\n",
              "      <td>The Invisible Man</td>\n",
              "      <td>(1933)</td>\n",
              "      <td>71 min</td>\n",
              "      <td>7.6</td>\n",
              "      <td>87</td>\n",
              "      <td>34,622</td>\n",
              "      <td>NaN</td>\n",
              "    </tr>\n",
              "  </tbody>\n",
              "</table>\n",
              "<p>1000 rows × 7 columns</p>\n",
              "</div>\n",
              "      <button class=\"colab-df-convert\" onclick=\"convertToInteractive('df-c9f9cf9a-7738-42f8-90e7-368bff97ad99')\"\n",
              "              title=\"Convert this dataframe to an interactive table.\"\n",
              "              style=\"display:none;\">\n",
              "        \n",
              "  <svg xmlns=\"http://www.w3.org/2000/svg\" height=\"24px\"viewBox=\"0 0 24 24\"\n",
              "       width=\"24px\">\n",
              "    <path d=\"M0 0h24v24H0V0z\" fill=\"none\"/>\n",
              "    <path d=\"M18.56 5.44l.94 2.06.94-2.06 2.06-.94-2.06-.94-.94-2.06-.94 2.06-2.06.94zm-11 1L8.5 8.5l.94-2.06 2.06-.94-2.06-.94L8.5 2.5l-.94 2.06-2.06.94zm10 10l.94 2.06.94-2.06 2.06-.94-2.06-.94-.94-2.06-.94 2.06-2.06.94z\"/><path d=\"M17.41 7.96l-1.37-1.37c-.4-.4-.92-.59-1.43-.59-.52 0-1.04.2-1.43.59L10.3 9.45l-7.72 7.72c-.78.78-.78 2.05 0 2.83L4 21.41c.39.39.9.59 1.41.59.51 0 1.02-.2 1.41-.59l7.78-7.78 2.81-2.81c.8-.78.8-2.07 0-2.86zM5.41 20L4 18.59l7.72-7.72 1.47 1.35L5.41 20z\"/>\n",
              "  </svg>\n",
              "      </button>\n",
              "      \n",
              "  <style>\n",
              "    .colab-df-container {\n",
              "      display:flex;\n",
              "      flex-wrap:wrap;\n",
              "      gap: 12px;\n",
              "    }\n",
              "\n",
              "    .colab-df-convert {\n",
              "      background-color: #E8F0FE;\n",
              "      border: none;\n",
              "      border-radius: 50%;\n",
              "      cursor: pointer;\n",
              "      display: none;\n",
              "      fill: #1967D2;\n",
              "      height: 32px;\n",
              "      padding: 0 0 0 0;\n",
              "      width: 32px;\n",
              "    }\n",
              "\n",
              "    .colab-df-convert:hover {\n",
              "      background-color: #E2EBFA;\n",
              "      box-shadow: 0px 1px 2px rgba(60, 64, 67, 0.3), 0px 1px 3px 1px rgba(60, 64, 67, 0.15);\n",
              "      fill: #174EA6;\n",
              "    }\n",
              "\n",
              "    [theme=dark] .colab-df-convert {\n",
              "      background-color: #3B4455;\n",
              "      fill: #D2E3FC;\n",
              "    }\n",
              "\n",
              "    [theme=dark] .colab-df-convert:hover {\n",
              "      background-color: #434B5C;\n",
              "      box-shadow: 0px 1px 3px 1px rgba(0, 0, 0, 0.15);\n",
              "      filter: drop-shadow(0px 1px 2px rgba(0, 0, 0, 0.3));\n",
              "      fill: #FFFFFF;\n",
              "    }\n",
              "  </style>\n",
              "\n",
              "      <script>\n",
              "        const buttonEl =\n",
              "          document.querySelector('#df-c9f9cf9a-7738-42f8-90e7-368bff97ad99 button.colab-df-convert');\n",
              "        buttonEl.style.display =\n",
              "          google.colab.kernel.accessAllowed ? 'block' : 'none';\n",
              "\n",
              "        async function convertToInteractive(key) {\n",
              "          const element = document.querySelector('#df-c9f9cf9a-7738-42f8-90e7-368bff97ad99');\n",
              "          const dataTable =\n",
              "            await google.colab.kernel.invokeFunction('convertToInteractive',\n",
              "                                                     [key], {});\n",
              "          if (!dataTable) return;\n",
              "\n",
              "          const docLinkHtml = 'Like what you see? Visit the ' +\n",
              "            '<a target=\"_blank\" href=https://colab.research.google.com/notebooks/data_table.ipynb>data table notebook</a>'\n",
              "            + ' to learn more about interactive tables.';\n",
              "          element.innerHTML = '';\n",
              "          dataTable['output_type'] = 'display_data';\n",
              "          await google.colab.output.renderOutput(dataTable, element);\n",
              "          const docLink = document.createElement('div');\n",
              "          docLink.innerHTML = docLinkHtml;\n",
              "          element.appendChild(docLink);\n",
              "        }\n",
              "      </script>\n",
              "    </div>\n",
              "  </div>\n",
              "  "
            ]
          },
          "metadata": {},
          "execution_count": 7
        }
      ]
    },
    {
      "cell_type": "code",
      "source": [
        "# #saving the data in excel format\n",
        "movie_list.to_excel(\"Top 1000 IMDb movies.xlsx\")\n",
        "\n",
        "# #If you want to save the data in csv format\n",
        "movie_list.to_csv(\"Top 1000 IMDb movies.csv\")"
      ],
      "metadata": {
        "id": "csx9JpaUdYnM"
      },
      "execution_count": 8,
      "outputs": []
    },
    {
      "cell_type": "code",
      "source": [
        "from google.colab import drive\n",
        "drive.mount('drive')"
      ],
      "metadata": {
        "colab": {
          "base_uri": "https://localhost:8080/"
        },
        "id": "Ym62zEXAH3LW",
        "outputId": "2f438a51-bbd1-4040-c621-4f0a93cd307d"
      },
      "execution_count": 9,
      "outputs": [
        {
          "output_type": "stream",
          "name": "stdout",
          "text": [
            "Mounted at drive\n"
          ]
        }
      ]
    },
    {
      "cell_type": "code",
      "source": [
        "movie_list.to_csv('Movie_List_from_IMDB.csv')\n",
        "!cp Movie_List_from_IMDB.csv \"drive/My Drive/\""
      ],
      "metadata": {
        "id": "uL-s84yCIKR4"
      },
      "execution_count": 10,
      "outputs": []
    }
  ]
}